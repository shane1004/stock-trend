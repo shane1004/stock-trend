{
 "cells": [
  {
   "cell_type": "code",
   "execution_count": 32,
   "metadata": {},
   "outputs": [],
   "source": [
    "import numpy as np\n",
    "import pandas as pd\n",
    "import matplotlib.pyplot as plt\n",
    "import pandas_datareader as data\n",
    "from datetime import date"
   ]
  },
  {
   "cell_type": "code",
   "execution_count": 33,
   "metadata": {},
   "outputs": [
    {
     "data": {
      "text/html": [
       "<div>\n",
       "<style scoped>\n",
       "    .dataframe tbody tr th:only-of-type {\n",
       "        vertical-align: middle;\n",
       "    }\n",
       "\n",
       "    .dataframe tbody tr th {\n",
       "        vertical-align: top;\n",
       "    }\n",
       "\n",
       "    .dataframe thead th {\n",
       "        text-align: right;\n",
       "    }\n",
       "</style>\n",
       "<table border=\"1\" class=\"dataframe\">\n",
       "  <thead>\n",
       "    <tr style=\"text-align: right;\">\n",
       "      <th></th>\n",
       "      <th>High</th>\n",
       "      <th>Low</th>\n",
       "      <th>Open</th>\n",
       "      <th>Close</th>\n",
       "      <th>Volume</th>\n",
       "      <th>Adj Close</th>\n",
       "    </tr>\n",
       "    <tr>\n",
       "      <th>Date</th>\n",
       "      <th></th>\n",
       "      <th></th>\n",
       "      <th></th>\n",
       "      <th></th>\n",
       "      <th></th>\n",
       "      <th></th>\n",
       "    </tr>\n",
       "  </thead>\n",
       "  <tbody>\n",
       "    <tr>\n",
       "      <th>2022-01-28</th>\n",
       "      <td>170.350006</td>\n",
       "      <td>162.800003</td>\n",
       "      <td>165.710007</td>\n",
       "      <td>170.330002</td>\n",
       "      <td>179935700.0</td>\n",
       "      <td>170.330002</td>\n",
       "    </tr>\n",
       "    <tr>\n",
       "      <th>2022-01-31</th>\n",
       "      <td>175.000000</td>\n",
       "      <td>169.509995</td>\n",
       "      <td>170.160004</td>\n",
       "      <td>174.779999</td>\n",
       "      <td>115541600.0</td>\n",
       "      <td>174.779999</td>\n",
       "    </tr>\n",
       "    <tr>\n",
       "      <th>2022-02-01</th>\n",
       "      <td>174.839996</td>\n",
       "      <td>172.309998</td>\n",
       "      <td>174.009995</td>\n",
       "      <td>174.610001</td>\n",
       "      <td>85908800.0</td>\n",
       "      <td>174.610001</td>\n",
       "    </tr>\n",
       "    <tr>\n",
       "      <th>2022-02-02</th>\n",
       "      <td>175.880005</td>\n",
       "      <td>173.330002</td>\n",
       "      <td>174.750000</td>\n",
       "      <td>175.839996</td>\n",
       "      <td>79172100.0</td>\n",
       "      <td>175.839996</td>\n",
       "    </tr>\n",
       "    <tr>\n",
       "      <th>2022-02-03</th>\n",
       "      <td>176.239899</td>\n",
       "      <td>172.119995</td>\n",
       "      <td>174.479996</td>\n",
       "      <td>172.899994</td>\n",
       "      <td>89418074.0</td>\n",
       "      <td>172.899994</td>\n",
       "    </tr>\n",
       "  </tbody>\n",
       "</table>\n",
       "</div>"
      ],
      "text/plain": [
       "                  High         Low        Open       Close       Volume  \\\n",
       "Date                                                                      \n",
       "2022-01-28  170.350006  162.800003  165.710007  170.330002  179935700.0   \n",
       "2022-01-31  175.000000  169.509995  170.160004  174.779999  115541600.0   \n",
       "2022-02-01  174.839996  172.309998  174.009995  174.610001   85908800.0   \n",
       "2022-02-02  175.880005  173.330002  174.750000  175.839996   79172100.0   \n",
       "2022-02-03  176.239899  172.119995  174.479996  172.899994   89418074.0   \n",
       "\n",
       "             Adj Close  \n",
       "Date                    \n",
       "2022-01-28  170.330002  \n",
       "2022-01-31  174.779999  \n",
       "2022-02-01  174.610001  \n",
       "2022-02-02  175.839996  \n",
       "2022-02-03  172.899994  "
      ]
     },
     "execution_count": 33,
     "metadata": {},
     "output_type": "execute_result"
    }
   ],
   "source": [
    "start = '2010-01-01'\n",
    "end = date.today()\n",
    "\n",
    "df = data.DataReader('AAPL','yahoo',start,end)\n",
    "df.tail()"
   ]
  },
  {
   "cell_type": "code",
   "execution_count": 34,
   "metadata": {},
   "outputs": [
    {
     "data": {
      "text/html": [
       "<div>\n",
       "<style scoped>\n",
       "    .dataframe tbody tr th:only-of-type {\n",
       "        vertical-align: middle;\n",
       "    }\n",
       "\n",
       "    .dataframe tbody tr th {\n",
       "        vertical-align: top;\n",
       "    }\n",
       "\n",
       "    .dataframe thead th {\n",
       "        text-align: right;\n",
       "    }\n",
       "</style>\n",
       "<table border=\"1\" class=\"dataframe\">\n",
       "  <thead>\n",
       "    <tr style=\"text-align: right;\">\n",
       "      <th></th>\n",
       "      <th>Date</th>\n",
       "      <th>High</th>\n",
       "      <th>Low</th>\n",
       "      <th>Open</th>\n",
       "      <th>Close</th>\n",
       "      <th>Volume</th>\n",
       "      <th>Adj Close</th>\n",
       "    </tr>\n",
       "  </thead>\n",
       "  <tbody>\n",
       "    <tr>\n",
       "      <th>0</th>\n",
       "      <td>2009-12-31</td>\n",
       "      <td>7.619643</td>\n",
       "      <td>7.520000</td>\n",
       "      <td>7.611786</td>\n",
       "      <td>7.526071</td>\n",
       "      <td>352410800.0</td>\n",
       "      <td>6.452591</td>\n",
       "    </tr>\n",
       "    <tr>\n",
       "      <th>1</th>\n",
       "      <td>2010-01-04</td>\n",
       "      <td>7.660714</td>\n",
       "      <td>7.585000</td>\n",
       "      <td>7.622500</td>\n",
       "      <td>7.643214</td>\n",
       "      <td>493729600.0</td>\n",
       "      <td>6.553027</td>\n",
       "    </tr>\n",
       "    <tr>\n",
       "      <th>2</th>\n",
       "      <td>2010-01-05</td>\n",
       "      <td>7.699643</td>\n",
       "      <td>7.616071</td>\n",
       "      <td>7.664286</td>\n",
       "      <td>7.656429</td>\n",
       "      <td>601904800.0</td>\n",
       "      <td>6.564355</td>\n",
       "    </tr>\n",
       "    <tr>\n",
       "      <th>3</th>\n",
       "      <td>2010-01-06</td>\n",
       "      <td>7.686786</td>\n",
       "      <td>7.526786</td>\n",
       "      <td>7.656429</td>\n",
       "      <td>7.534643</td>\n",
       "      <td>552160000.0</td>\n",
       "      <td>6.459940</td>\n",
       "    </tr>\n",
       "    <tr>\n",
       "      <th>4</th>\n",
       "      <td>2010-01-07</td>\n",
       "      <td>7.571429</td>\n",
       "      <td>7.466071</td>\n",
       "      <td>7.562500</td>\n",
       "      <td>7.520714</td>\n",
       "      <td>477131200.0</td>\n",
       "      <td>6.447998</td>\n",
       "    </tr>\n",
       "  </tbody>\n",
       "</table>\n",
       "</div>"
      ],
      "text/plain": [
       "        Date      High       Low      Open     Close       Volume  Adj Close\n",
       "0 2009-12-31  7.619643  7.520000  7.611786  7.526071  352410800.0   6.452591\n",
       "1 2010-01-04  7.660714  7.585000  7.622500  7.643214  493729600.0   6.553027\n",
       "2 2010-01-05  7.699643  7.616071  7.664286  7.656429  601904800.0   6.564355\n",
       "3 2010-01-06  7.686786  7.526786  7.656429  7.534643  552160000.0   6.459940\n",
       "4 2010-01-07  7.571429  7.466071  7.562500  7.520714  477131200.0   6.447998"
      ]
     },
     "execution_count": 34,
     "metadata": {},
     "output_type": "execute_result"
    }
   ],
   "source": [
    "df = df.reset_index()\n",
    "df.head()"
   ]
  },
  {
   "cell_type": "code",
   "execution_count": 35,
   "metadata": {},
   "outputs": [
    {
     "data": {
      "text/html": [
       "<div>\n",
       "<style scoped>\n",
       "    .dataframe tbody tr th:only-of-type {\n",
       "        vertical-align: middle;\n",
       "    }\n",
       "\n",
       "    .dataframe tbody tr th {\n",
       "        vertical-align: top;\n",
       "    }\n",
       "\n",
       "    .dataframe thead th {\n",
       "        text-align: right;\n",
       "    }\n",
       "</style>\n",
       "<table border=\"1\" class=\"dataframe\">\n",
       "  <thead>\n",
       "    <tr style=\"text-align: right;\">\n",
       "      <th></th>\n",
       "      <th>High</th>\n",
       "      <th>Low</th>\n",
       "      <th>Open</th>\n",
       "      <th>Close</th>\n",
       "      <th>Volume</th>\n",
       "    </tr>\n",
       "  </thead>\n",
       "  <tbody>\n",
       "    <tr>\n",
       "      <th>0</th>\n",
       "      <td>7.619643</td>\n",
       "      <td>7.520000</td>\n",
       "      <td>7.611786</td>\n",
       "      <td>7.526071</td>\n",
       "      <td>352410800.0</td>\n",
       "    </tr>\n",
       "    <tr>\n",
       "      <th>1</th>\n",
       "      <td>7.660714</td>\n",
       "      <td>7.585000</td>\n",
       "      <td>7.622500</td>\n",
       "      <td>7.643214</td>\n",
       "      <td>493729600.0</td>\n",
       "    </tr>\n",
       "    <tr>\n",
       "      <th>2</th>\n",
       "      <td>7.699643</td>\n",
       "      <td>7.616071</td>\n",
       "      <td>7.664286</td>\n",
       "      <td>7.656429</td>\n",
       "      <td>601904800.0</td>\n",
       "    </tr>\n",
       "    <tr>\n",
       "      <th>3</th>\n",
       "      <td>7.686786</td>\n",
       "      <td>7.526786</td>\n",
       "      <td>7.656429</td>\n",
       "      <td>7.534643</td>\n",
       "      <td>552160000.0</td>\n",
       "    </tr>\n",
       "    <tr>\n",
       "      <th>4</th>\n",
       "      <td>7.571429</td>\n",
       "      <td>7.466071</td>\n",
       "      <td>7.562500</td>\n",
       "      <td>7.520714</td>\n",
       "      <td>477131200.0</td>\n",
       "    </tr>\n",
       "  </tbody>\n",
       "</table>\n",
       "</div>"
      ],
      "text/plain": [
       "       High       Low      Open     Close       Volume\n",
       "0  7.619643  7.520000  7.611786  7.526071  352410800.0\n",
       "1  7.660714  7.585000  7.622500  7.643214  493729600.0\n",
       "2  7.699643  7.616071  7.664286  7.656429  601904800.0\n",
       "3  7.686786  7.526786  7.656429  7.534643  552160000.0\n",
       "4  7.571429  7.466071  7.562500  7.520714  477131200.0"
      ]
     },
     "execution_count": 35,
     "metadata": {},
     "output_type": "execute_result"
    }
   ],
   "source": [
    "df = df.drop(['Date','Adj Close'], axis = 1)\n",
    "df.head()"
   ]
  },
  {
   "cell_type": "code",
   "execution_count": 36,
   "metadata": {},
   "outputs": [
    {
     "data": {
      "text/plain": [
       "[<matplotlib.lines.Line2D at 0x1d434767648>]"
      ]
     },
     "execution_count": 36,
     "metadata": {},
     "output_type": "execute_result"
    },
    {
     "data": {
      "image/png": "[encoded data removed]",
      "text/plain": [
       "<Figure size 432x288 with 1 Axes>"
      ]
     },
     "metadata": {
      "needs_background": "light"
     },
     "output_type": "display_data"
    }
   ],
   "source": [
    "plt.plot(df.Close)"
   ]
  },
  {
   "cell_type": "code",
   "execution_count": 37,
   "metadata": {},
   "outputs": [
    {
     "data": {
      "text/plain": [
       "[<matplotlib.lines.Line2D at 0x1d434c20c08>]"
      ]
     },
     "execution_count": 37,
     "metadata": {},
     "output_type": "execute_result"
    },
    {
     "data": {
      "image/png": "[encoded data removed]",
      "text/plain": [
       "<Figure size 864x432 with 1 Axes>"
      ]
     },
     "metadata": {
      "needs_background": "light"
     },
     "output_type": "display_data"
    }
   ],
   "source": [
    "ma100 = df.Close.rolling(100, min_periods = 50).mean()\n",
    "\n",
    "plt.figure(figsize = (12,6))\n",
    "plt.plot(df.Close)\n",
    "plt.plot(ma100)"
   ]
  },
  {
   "cell_type": "code",
   "execution_count": 38,
   "metadata": {},
   "outputs": [
    {
     "data": {
      "text/plain": [
       "[<matplotlib.lines.Line2D at 0x1d4347d2bc8>]"
      ]
     },
     "execution_count": 38,
     "metadata": {},
     "output_type": "execute_result"
    },
    {
     "data": {
      "image/png": "[encoded data removed]",
      "text/plain": [
       "<Figure size 864x432 with 1 Axes>"
      ]
     },
     "metadata": {
      "needs_background": "light"
     },
     "output_type": "display_data"
    }
   ],
   "source": [
    "ma200 = df.Close.rolling(200, min_periods = 100).mean()\n",
    "\n",
    "plt.figure(figsize = (12,6))\n",
    "plt.plot(df.Close)\n",
    "plt.plot(ma100 , 'r')\n",
    "plt.plot(ma200 , 'g')"
   ]
  },
  {
   "cell_type": "code",
   "execution_count": 39,
   "metadata": {},
   "outputs": [
    {
     "name": "stdout",
     "output_type": "stream",
     "text": [
      "(3045, 5)\n",
      "(2131,)\n",
      "(914,)\n"
     ]
    }
   ],
   "source": [
    "from sklearn.model_selection import train_test_split\n",
    "\n",
    "df_train , df_test = train_test_split(df.Close , test_size = 0.3 , shuffle = False)\n",
    "print(df.shape)\n",
    "print(df_train.shape)\n",
    "print(df_test.shape)"
   ]
  },
  {
   "cell_type": "code",
   "execution_count": 40,
   "metadata": {},
   "outputs": [
    {
     "name": "stdout",
     "output_type": "stream",
     "text": [
      "(2131, 1)\n",
      "(914, 1)\n"
     ]
    }
   ],
   "source": [
    "df_train = df_train.to_frame()\n",
    "df_test = df_test.to_frame()\n",
    "\n",
    "print(df_train.shape)\n",
    "print(df_test.shape)"
   ]
  },
  {
   "cell_type": "code",
   "execution_count": 47,
   "metadata": {},
   "outputs": [],
   "source": [
    "from sklearn.preprocessing import MinMaxScaler\n",
    "\n",
    "scaler = MinMaxScaler(feature_range = (0,1))\n",
    "\n",
    "train_arr = scaler.fit_transform(df_train)"
   ]
  },
  {
   "cell_type": "code",
   "execution_count": 55,
   "metadata": {},
   "outputs": [],
   "source": [
    "x_train = []\n",
    "y_train = []\n",
    "\n",
    "for i in range(100,train_arr.shape[0]):\n",
    "    x_train.append(train_arr[i-100:i]);\n",
    "    y_train.append(train_arr[i,0]);\n",
    "    \n",
    "x_train = np.array(x_train)\n",
    "y_train = np.array(y_train)\n"
   ]
  },
  {
   "cell_type": "code",
   "execution_count": 43,
   "metadata": {},
   "outputs": [],
   "source": [
    "#Defining the Model\n",
    "\n",
    "from keras.layers import Dense, Dropout, LSTM\n",
    "from keras.models import Sequential\n",
    "\n",
    "model = Sequential()\n",
    "\n",
    "model.add(LSTM(units = 50 , activation = 'relu' , return_sequences = True , input_shape = (x_train.shape[1],1)))\n",
    "model.add(Dropout(0.2))\n",
    "\n",
    "model.add(LSTM(units = 75 , activation = 'relu' , return_sequences = True))\n",
    "model.add(Dropout(0.3))\n",
    "\n",
    "model.add(LSTM(units = 100 , activation = 'relu' , return_sequences = True))\n",
    "model.add(Dropout(0.4))\n",
    "\n",
    "model.add(LSTM(units = 125 , activation = 'relu'))\n",
    "model.add(Dropout(0.5))\n",
    "\n",
    "model.add(Dense(units = 1)) #to output a single closing price"
   ]
  },
  {
   "cell_type": "code",
   "execution_count": 44,
   "metadata": {},
   "outputs": [
    {
     "name": "stdout",
     "output_type": "stream",
     "text": [
      "Model: \"sequential_6\"\n",
      "_________________________________________________________________\n",
      "Layer (type)                 Output Shape              Param #   \n",
      "=================================================================\n",
      "lstm_17 (LSTM)               (None, 100, 50)           10400     \n",
      "_________________________________________________________________\n",
      "dropout_17 (Dropout)         (None, 100, 50)           0         \n",
      "_________________________________________________________________\n",
      "lstm_18 (LSTM)               (None, 100, 75)           37800     \n",
      "_________________________________________________________________\n",
      "dropout_18 (Dropout)         (None, 100, 75)           0         \n",
      "_________________________________________________________________\n",
      "lstm_19 (LSTM)               (None, 100, 100)          70400     \n",
      "_________________________________________________________________\n",
      "dropout_19 (Dropout)         (None, 100, 100)          0         \n",
      "_________________________________________________________________\n",
      "lstm_20 (LSTM)               (None, 125)               113000    \n",
      "_________________________________________________________________\n",
      "dropout_20 (Dropout)         (None, 125)               0         \n",
      "_________________________________________________________________\n",
      "dense_5 (Dense)              (None, 1)                 126       \n",
      "=================================================================\n",
      "Total params: 231,726\n",
      "Trainable params: 231,726\n",
      "Non-trainable params: 0\n",
      "_________________________________________________________________\n"
     ]
    }
   ],
   "source": [
    "model.summary()"
   ]
  },
  {
   "cell_type": "code",
   "execution_count": 45,
   "metadata": {},
   "outputs": [
    {
     "name": "stdout",
     "output_type": "stream",
     "text": [
      "Epoch 1/50\n",
      "2031/2031 [==============================] - 36s 18ms/step - loss: 0.0299\n",
      "Epoch 2/50\n",
      "2031/2031 [==============================] - 37s 18ms/step - loss: 0.0076\n",
      "Epoch 3/50\n",
      "2031/2031 [==============================] - 33s 16ms/step - loss: 0.0059\n",
      "Epoch 4/50\n",
      "2031/2031 [==============================] - 40s 19ms/step - loss: 0.0059\n",
      "Epoch 5/50\n",
      "2031/2031 [==============================] - 42s 21ms/step - loss: 0.0051\n",
      "Epoch 6/50\n",
      "2031/2031 [==============================] - 42s 21ms/step - loss: 0.0048\n",
      "Epoch 7/50\n",
      "2031/2031 [==============================] - 44s 21ms/step - loss: 0.0049\n",
      "Epoch 8/50\n",
      "2031/2031 [==============================] - 42s 21ms/step - loss: 0.0046\n",
      "Epoch 9/50\n",
      "2031/2031 [==============================] - 36s 18ms/step - loss: 0.0048\n",
      "Epoch 10/50\n",
      "2031/2031 [==============================] - 37s 18ms/step - loss: 0.0040\n",
      "Epoch 11/50\n",
      "2031/2031 [==============================] - 40s 20ms/step - loss: 0.0049\n",
      "Epoch 12/50\n",
      "2031/2031 [==============================] - 44s 21ms/step - loss: 0.0039\n",
      "Epoch 13/50\n",
      "2031/2031 [==============================] - 44s 22ms/step - loss: 0.0041\n",
      "Epoch 14/50\n",
      "2031/2031 [==============================] - 39s 19ms/step - loss: 0.0035\n",
      "Epoch 15/50\n",
      "2031/2031 [==============================] - 45s 22ms/step - loss: 0.0033\n",
      "Epoch 16/50\n",
      "2031/2031 [==============================] - 41s 20ms/step - loss: 0.0036\n",
      "Epoch 17/50\n",
      "2031/2031 [==============================] - 45s 22ms/step - loss: 0.0032\n",
      "Epoch 18/50\n",
      "2031/2031 [==============================] - 44s 22ms/step - loss: 0.0030\n",
      "Epoch 19/50\n",
      "2031/2031 [==============================] - 47s 23ms/step - loss: 0.0033\n",
      "Epoch 20/50\n",
      "2031/2031 [==============================] - 43s 21ms/step - loss: 0.0033\n",
      "Epoch 21/50\n",
      "2031/2031 [==============================] - 37s 18ms/step - loss: 0.0026\n",
      "Epoch 22/50\n",
      "2031/2031 [==============================] - 39s 19ms/step - loss: 0.0029\n",
      "Epoch 23/50\n",
      "2031/2031 [==============================] - 42s 21ms/step - loss: 0.0031\n",
      "Epoch 24/50\n",
      "2031/2031 [==============================] - 41s 20ms/step - loss: 0.0030\n",
      "Epoch 25/50\n",
      "2031/2031 [==============================] - 45s 22ms/step - loss: 0.0026\n",
      "Epoch 26/50\n",
      "2031/2031 [==============================] - 44s 22ms/step - loss: 0.0026\n",
      "Epoch 27/50\n",
      "2031/2031 [==============================] - 46s 22ms/step - loss: 0.0023\n",
      "Epoch 28/50\n",
      "2031/2031 [==============================] - 40s 20ms/step - loss: 0.0023\n",
      "Epoch 29/50\n",
      "2031/2031 [==============================] - 45s 22ms/step - loss: 0.0026\n",
      "Epoch 30/50\n",
      "2031/2031 [==============================] - 41s 20ms/step - loss: 0.0024\n",
      "Epoch 31/50\n",
      "2031/2031 [==============================] - 36s 18ms/step - loss: 0.0025\n",
      "Epoch 32/50\n",
      "2031/2031 [==============================] - 40s 20ms/step - loss: 0.0025\n",
      "Epoch 33/50\n",
      "2031/2031 [==============================] - 38s 19ms/step - loss: 0.0023\n",
      "Epoch 34/50\n",
      "2031/2031 [==============================] - 42s 21ms/step - loss: 0.0021\n",
      "Epoch 35/50\n",
      "2031/2031 [==============================] - 45s 22ms/step - loss: 0.0025\n",
      "Epoch 36/50\n",
      "2031/2031 [==============================] - 36s 18ms/step - loss: 0.0022\n",
      "Epoch 37/50\n",
      "2031/2031 [==============================] - 36s 18ms/step - loss: 0.0023\n",
      "Epoch 38/50\n",
      "2031/2031 [==============================] - 40s 20ms/step - loss: 0.0022\n",
      "Epoch 39/50\n",
      "2031/2031 [==============================] - 40s 20ms/step - loss: 0.0019\n",
      "Epoch 40/50\n",
      "2031/2031 [==============================] - 36s 18ms/step - loss: 0.0021\n",
      "Epoch 41/50\n",
      "2031/2031 [==============================] - 41s 20ms/step - loss: 0.0020\n",
      "Epoch 42/50\n",
      "2031/2031 [==============================] - 35s 17ms/step - loss: 0.0023\n",
      "Epoch 43/50\n",
      "2031/2031 [==============================] - 31s 15ms/step - loss: 0.0021\n",
      "Epoch 44/50\n",
      "2031/2031 [==============================] - 36s 18ms/step - loss: 0.0020\n",
      "Epoch 45/50\n",
      "2031/2031 [==============================] - 39s 19ms/step - loss: 0.0019\n",
      "Epoch 46/50\n",
      "2031/2031 [==============================] - 45s 22ms/step - loss: 0.0020\n",
      "Epoch 47/50\n",
      "2031/2031 [==============================] - 36s 18ms/step - loss: 0.0017\n",
      "Epoch 48/50\n",
      "2031/2031 [==============================] - 35s 17ms/step - loss: 0.0020\n",
      "Epoch 49/50\n",
      "2031/2031 [==============================] - 37s 18ms/step - loss: 0.0019\n",
      "Epoch 50/50\n",
      "2031/2031 [==============================] - 37s 18ms/step - loss: 0.0021\n"
     ]
    },
    {
     "data": {
      "text/plain": [
       "<keras.callbacks.callbacks.History at 0x1d43740b8c8>"
      ]
     },
     "execution_count": 45,
     "metadata": {},
     "output_type": "execute_result"
    }
   ],
   "source": [
    "model.compile(optimizer = 'adam' , loss = 'mean_squared_error')\n",
    "model.fit(x_train , y_train , epochs = 50)"
   ]
  },
  {
   "cell_type": "code",
   "execution_count": 46,
   "metadata": {},
   "outputs": [],
   "source": [
    "model.save(\"keras_model.h5\")"
   ]
  },
  {
   "cell_type": "code",
   "execution_count": 49,
   "metadata": {},
   "outputs": [
    {
     "data": {
      "text/plain": [
       "array([[0.05004693],\n",
       "       [0.04398738],\n",
       "       [0.04229752],\n",
       "       ...,\n",
       "       [0.94947516],\n",
       "       [0.95787319],\n",
       "       [0.93779977]])"
      ]
     },
     "execution_count": 49,
     "metadata": {},
     "output_type": "execute_result"
    }
   ],
   "source": [
    "past_100_df = df_train.tail(100);\n",
    "final_df = past_100_df.append(df_test,ignore_index = True)\n",
    "\n",
    "input_data = scaler.fit_transform(final_df)\n",
    "input_data"
   ]
  },
  {
   "cell_type": "code",
   "execution_count": 52,
   "metadata": {},
   "outputs": [
    {
     "name": "stdout",
     "output_type": "stream",
     "text": [
      "(914, 100, 1)\n",
      "(914,)\n"
     ]
    }
   ],
   "source": [
    "x_test = []\n",
    "y_test = []\n",
    "\n",
    "for i in range(100,input_data.shape[0]):\n",
    "    x_test.append(input_data[i-100:i]);\n",
    "    y_test.append(input_data[i,0]);\n",
    "    \n",
    "x_test = np.array(x_test);\n",
    "y_test = np.array(y_test);\n",
    "\n",
    "print(x_test.shape)\n",
    "print(y_test.shape)"
   ]
  },
  {
   "cell_type": "code",
   "execution_count": 56,
   "metadata": {},
   "outputs": [],
   "source": [
    "y_pred = model.predict(x_test)"
   ]
  },
  {
   "cell_type": "code",
   "execution_count": 59,
   "metadata": {},
   "outputs": [],
   "source": [
    "scale_factor = scaler.scale_[0]"
   ]
  },
  {
   "cell_type": "code",
   "execution_count": 60,
   "metadata": {},
   "outputs": [],
   "source": [
    "y_pred = y_pred*(1/scale_factor);\n",
    "y_test = y_test*(1/scale_factor);"
   ]
  },
  {
   "cell_type": "code",
   "execution_count": 61,
   "metadata": {},
   "outputs": [
    {
     "data": {
      "image/png": "[encoded data removed]",
      "text/plain": [
       "<Figure size 864x432 with 1 Axes>"
      ]
     },
     "metadata": {
      "needs_background": "light"
     },
     "output_type": "display_data"
    }
   ],
   "source": [
    "plt.figure(figsize = (12,6))\n",
    "plt.plot(y_test , 'b' , label = 'Orginal Price')\n",
    "plt.plot(y_pred , 'g' , label = 'Predicted Price')\n",
    "plt.xlabel('Time')\n",
    "plt.ylabel('Price')\n",
    "plt.legend()\n",
    "plt.show()"
   ]
  },
  {
   "cell_type": "code",
   "execution_count": null,
   "metadata": {},
   "outputs": [],
   "source": []
  }
 ],
 "metadata": {
  "kernelspec": {
   "display_name": "Python 3",
   "language": "python",
   "name": "python3"
  },
  "language_info": {
   "codemirror_mode": {
    "name": "ipython",
    "version": 3
   },
   "file_extension": ".py",
   "mimetype": "text/x-python",
   "name": "python",
   "nbconvert_exporter": "python",
   "pygments_lexer": "ipython3",
   "version": "3.7.6"
  }
 },
 "nbformat": 4,
 "nbformat_minor": 4
}
